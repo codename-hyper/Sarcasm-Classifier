{
 "cells": [
  {
   "cell_type": "code",
   "execution_count": 1,
   "id": "arbitrary-combine",
   "metadata": {},
   "outputs": [],
   "source": [
    "import tensorflow as tf\n",
    "import pandas as pd\n",
    "import numpy as np\n",
    "import json"
   ]
  },
  {
   "cell_type": "code",
   "execution_count": 2,
   "id": "attended-michigan",
   "metadata": {},
   "outputs": [],
   "source": [
    "with open('Sarcasm_Headlines_Dataset_v2.json') as file:\n",
    "    data = []\n",
    "    for line in file:\n",
    "        lines = json.loads(line)\n",
    "        data.append(lines)"
   ]
  },
  {
   "cell_type": "code",
   "execution_count": 3,
   "id": "artistic-spencer",
   "metadata": {},
   "outputs": [],
   "source": [
    "text = [i['headline'] for i in data]\n",
    "label = [i['is_sarcastic'] for i in data]"
   ]
  },
  {
   "cell_type": "code",
   "execution_count": 4,
   "id": "liberal-development",
   "metadata": {},
   "outputs": [],
   "source": [
    "x_train = text[:25000]\n",
    "y_train = label[:25000]\n",
    "x_test = text[25000:]\n",
    "y_test = label[25000:]"
   ]
  },
  {
   "cell_type": "code",
   "execution_count": 5,
   "id": "loose-movement",
   "metadata": {},
   "outputs": [],
   "source": [
    "from tensorflow.keras.preprocessing.text import Tokenizer\n",
    "from tensorflow.keras.preprocessing.sequence import pad_sequences"
   ]
  },
  {
   "cell_type": "code",
   "execution_count": 6,
   "id": "turned-table",
   "metadata": {},
   "outputs": [],
   "source": [
    "sarcasm = Tokenizer(num_words=100,oov_token='OOV')"
   ]
  },
  {
   "cell_type": "code",
   "execution_count": 7,
   "id": "bulgarian-circumstances",
   "metadata": {},
   "outputs": [],
   "source": [
    "sarcasm.fit_on_texts(x_train)"
   ]
  },
  {
   "cell_type": "code",
   "execution_count": 8,
   "id": "genuine-berlin",
   "metadata": {},
   "outputs": [],
   "source": [
    "sequences_train = sarcasm.texts_to_sequences(x_train)\n",
    "sequences_test = sarcasm.texts_to_sequences(x_test)"
   ]
  },
  {
   "cell_type": "code",
   "execution_count": 9,
   "id": "computational-circus",
   "metadata": {},
   "outputs": [],
   "source": [
    "padded_train = pad_sequences(sequences_train,maxlen=10,padding='post',truncating='post')\n",
    "padded_test = pad_sequences(sequences_test,maxlen=10,padding='post',truncating='post')"
   ]
  },
  {
   "cell_type": "code",
   "execution_count": 10,
   "id": "swedish-democrat",
   "metadata": {},
   "outputs": [],
   "source": [
    "x_train_array = np.array(padded_train)\n",
    "y_train_array = np.array(y_train)\n",
    "x_test_array = np.array(padded_test)\n",
    "y_test_array = np.array(y_test)"
   ]
  },
  {
   "cell_type": "code",
   "execution_count": 11,
   "id": "theoretical-saudi",
   "metadata": {},
   "outputs": [],
   "source": [
    "model = tf.keras.Sequential([\n",
    "    tf.keras.layers.Embedding(100,32,input_length = 10),\n",
    "    tf.keras.layers.Bidirectional(tf.keras.layers.LSTM(200,return_sequences=True)),\n",
    "    tf.keras.layers.Bidirectional(tf.keras.layers.LSTM(200,return_sequences=True)),\n",
    "    tf.keras.layers.Bidirectional(tf.keras.layers.LSTM(200)),\n",
    "    tf.keras.layers.Dense(500,activation='relu'),\n",
    "    tf.keras.layers.Dense(500,activation='relu'),\n",
    "    tf.keras.layers.Dense(1,activation='sigmoid')\n",
    "])"
   ]
  },
  {
   "cell_type": "code",
   "execution_count": 12,
   "id": "inside-rehabilitation",
   "metadata": {},
   "outputs": [],
   "source": [
    "model.compile(loss='binary_crossentropy',optimizer=tf.keras.optimizers.Adam(learning_rate=0.01))"
   ]
  },
  {
   "cell_type": "code",
   "execution_count": 13,
   "id": "round-consequence",
   "metadata": {},
   "outputs": [],
   "source": [
    "class mycallback(tf.keras.callbacks.Callback):\n",
    "    def on_epoch_end(self,epoch,logs={}):\n",
    "        if logs['loss'] < 0.5:\n",
    "            model.stop_training = True\n",
    "            print('\\nThe model has reached the loss threshold, so stopping the train sequence')\n",
    "lr_scheduler = tf.keras.callbacks.LearningRateScheduler(lambda epoch : 0.01 * 10 ** (epoch/20))\n",
    "calls = mycallback()"
   ]
  },
  {
   "cell_type": "code",
   "execution_count": 14,
   "id": "psychological-combining",
   "metadata": {},
   "outputs": [],
   "source": [
    "history = model.fit(x_train_array,y_train_array,validation_data=(x_test_array,y_test_array),epochs=5,callbacks=[lr_scheduler],batch_size=64,verbose=0)"
   ]
  },
  {
   "cell_type": "code",
   "execution_count": 15,
   "id": "athletic-candle",
   "metadata": {},
   "outputs": [
    {
     "data": {
      "image/png": "[encoded data removed]",
      "text/plain": [
       "<Figure size 432x288 with 1 Axes>"
      ]
     },
     "metadata": {
      "needs_background": "light"
     },
     "output_type": "display_data"
    }
   ],
   "source": [
    "import matplotlib.pyplot as plt\n",
    "lrs = 0.01 * (10 ** (np.arange(5)/20))\n",
    "loss = history.history['loss']\n",
    "plt.plot(lrs,loss)\n",
    "plt.show()"
   ]
  },
  {
   "cell_type": "code",
   "execution_count": 16,
   "id": "latter-object",
   "metadata": {
    "scrolled": true
   },
   "outputs": [
    {
     "name": "stdout",
     "output_type": "stream",
     "text": [
      "Epoch 1/25\n",
      "391/391 [==============================] - 10s 13ms/step - loss: 0.6337 - val_loss: 0.5889\n",
      "Epoch 2/25\n",
      "391/391 [==============================] - 4s 10ms/step - loss: 0.5799 - val_loss: 0.5287\n",
      "Epoch 3/25\n",
      "391/391 [==============================] - 4s 10ms/step - loss: 0.5425 - val_loss: 0.5239\n",
      "Epoch 4/25\n",
      "391/391 [==============================] - 4s 10ms/step - loss: 0.5339 - val_loss: 0.5206\n",
      "Epoch 5/25\n",
      "391/391 [==============================] - 4s 10ms/step - loss: 0.5242 - val_loss: 0.5602\n",
      "Epoch 6/25\n",
      "391/391 [==============================] - 4s 10ms/step - loss: 0.5171 - val_loss: 0.4968\n",
      "Epoch 7/25\n",
      "391/391 [==============================] - 4s 10ms/step - loss: 0.5061 - val_loss: 0.5039\n",
      "Epoch 8/25\n",
      "391/391 [==============================] - 4s 10ms/step - loss: 0.5032 - val_loss: 0.4959\n",
      "Epoch 9/25\n",
      "391/391 [==============================] - 4s 10ms/step - loss: 0.4965 - val_loss: 0.5264\n",
      "Epoch 10/25\n",
      "391/391 [==============================] - 4s 11ms/step - loss: 0.5032 - val_loss: 0.5303\n",
      "Epoch 11/25\n",
      "391/391 [==============================] - 4s 10ms/step - loss: 0.6057 - val_loss: 0.5010\n",
      "Epoch 12/25\n",
      "391/391 [==============================] - 4s 11ms/step - loss: 0.5068 - val_loss: 0.4865\n",
      "\n",
      "The model has reached the loss threshold, so stopping the train sequence\n"
     ]
    }
   ],
   "source": [
    "model.compile(loss='binary_crossentropy',optimizer=tf.keras.optimizers.Adam(learning_rate=0.016))\n",
    "history = model.fit(x_train_array,y_train_array,validation_data=(x_test_array,y_test_array),epochs=25,callbacks=[calls],batch_size=64)"
   ]
  },
  {
   "cell_type": "code",
   "execution_count": 17,
   "id": "hawaiian-feelings",
   "metadata": {},
   "outputs": [
    {
     "data": {
      "image/png": "[encoded data removed]",
      "text/plain": [
       "<Figure size 432x288 with 1 Axes>"
      ]
     },
     "metadata": {
      "needs_background": "light"
     },
     "output_type": "display_data"
    }
   ],
   "source": [
    "loss = history.history['loss']\n",
    "val_loss = history.history['val_loss']\n",
    "\n",
    "total_epochs = len(loss)\n",
    "epochs = range(total_epochs)\n",
    "\n",
    "plt.plot(epochs,loss,label='Training Loss')\n",
    "plt.plot(epochs,val_loss,label='Validation Loss')\n",
    "plt.xlabel('Epochs')\n",
    "plt.ylabel('Loss')\n",
    "plt.legend()\n",
    "plt.show()"
   ]
  }
 ],
 "metadata": {
  "kernelspec": {
   "display_name": "Python 3",
   "language": "python",
   "name": "python3"
  },
  "language_info": {
   "codemirror_mode": {
    "name": "ipython",
    "version": 3
   },
   "file_extension": ".py",
   "mimetype": "text/x-python",
   "name": "python",
   "nbconvert_exporter": "python",
   "pygments_lexer": "ipython3",
   "version": "3.8.5"
  }
 },
 "nbformat": 4,
 "nbformat_minor": 5
}
